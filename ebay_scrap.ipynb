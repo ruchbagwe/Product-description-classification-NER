{
 "cells": [
  {
   "cell_type": "code",
   "execution_count": 1,
   "metadata": {},
   "outputs": [],
   "source": [
    "from bs4 import BeautifulSoup\n",
    "import requests\n",
    "import string\n",
    "import time"
   ]
  },
  {
   "cell_type": "code",
   "execution_count": 2,
   "metadata": {},
   "outputs": [],
   "source": [
    "search  = 'laptops'"
   ]
  },
  {
   "cell_type": "code",
   "execution_count": 3,
   "metadata": {},
   "outputs": [],
   "source": [
    "ebay_link = \"http://www.ebay.in/sch/i.html?_from=R40&_trksid=p2050601.m570.l1313.TR10.TRC0.A0.H0.X\"+search+\".TRS0&_nkw=\"+search+\"&_sacat=0\""
   ]
  },
  {
   "cell_type": "code",
   "execution_count": 3,
   "metadata": {},
   "outputs": [],
   "source": [
    "ebay_link = \"http://www.ebay.in/sch/i.html?_from=R40&_trksid=p2050601.m570.l1313.TR10.TRC0.A0.H0.X\"+search+\".TRS0&_nkw=\"+search+\"&_sacat=0&_pgn=\""
   ]
  },
  {
   "cell_type": "code",
   "execution_count": 4,
   "metadata": {},
   "outputs": [],
   "source": [
    "ebay = requests.get(ebay_link)"
   ]
  },
  {
   "cell_type": "code",
   "execution_count": 5,
   "metadata": {},
   "outputs": [],
   "source": [
    "ebay_soup = BeautifulSoup(ebay.content,\"html.parser\")"
   ]
  },
  {
   "cell_type": "code",
   "execution_count": 6,
   "metadata": {},
   "outputs": [],
   "source": [
    "results = ebay_soup.find_all(\"div\",{\"id\":\"srp-river-main\"})"
   ]
  },
  {
   "cell_type": "code",
   "execution_count": 18,
   "metadata": {},
   "outputs": [],
   "source": [
    "def GetEbayItems(soup):\n",
    "\n",
    "    final = {}\n",
    "    results = soup.find_all(\"div\",{\"id\":\"srp-river-main\"})\n",
    "    result_items =  results[0].find_all(\"div\",{\"class\":\"s-item__info\"})\n",
    "    for item_count,item in enumerate(result_items,1):\n",
    "        #print(item_count)\n",
    "        #print(item)\n",
    "        #print(str(item.next.next))\n",
    "        #item_name =  str(item.find_all(\"h3\",{\"class\":\"s-item_title\"})\n",
    "        item_name =  item.find_all(\"h3\",{\"class\":\"s-item__title\"})[0].next\n",
    "        item_price = item.find_all(\"span\",{\"class\":\"s-item__price\"})[0].next\n",
    "        #item_price_striped =  item_price.find_all(\"span\",{\"class\":\"bold\"})[0]\n",
    "        #item_price_striped = Removewords(str(item_price_striped))\n",
    "        final.__setitem__(item_name,item_price)\n",
    "        if item_count == 200 :\n",
    "            break\n",
    "    return final"
   ]
  },
  {
   "cell_type": "code",
   "execution_count": 19,
   "metadata": {},
   "outputs": [],
   "source": [
    "Ebay_Items = GetEbayItems(ebay_soup)"
   ]
  },
  {
   "cell_type": "code",
   "execution_count": 5,
   "metadata": {},
   "outputs": [],
   "source": [
    "file_name = r\"..\\\\data\\\\catalogue_ebay_laptop.csv\"\n",
    "file = open(file_name, \"w\", encoding=\"utf-8\")\n",
    "col_names = \"Product Name, Price \\n\""
   ]
  },
  {
   "cell_type": "code",
   "execution_count": 4,
   "metadata": {},
   "outputs": [],
   "source": [
    "def GetEbayItems(soup):\n",
    "\n",
    "    \n",
    "    results = soup.find_all(\"div\",{\"id\":\"srp-river-main\"})\n",
    "    result_items =  results[0].find_all(\"div\",{\"class\":\"s-item__info\"})\n",
    "    for item_count,item in enumerate(result_items,1):\n",
    "        item_name =  str(item.find_all(\"h3\",{\"class\":\"s-item__title\"})[0].next)\n",
    "        item_price = str(item.find_all(\"span\",{\"class\":\"s-item__price\"})[0].next)\n",
    "        file.write(item_name + ',' + item_price + ',' + '\\n')\n",
    "        "
   ]
  },
  {
   "cell_type": "code",
   "execution_count": 8,
   "metadata": {},
   "outputs": [],
   "source": [
    "GetEbayItems(ebay_soup)"
   ]
  },
  {
   "cell_type": "code",
   "execution_count": 9,
   "metadata": {},
   "outputs": [
    {
     "data": {
      "text/plain": [
       "<function TextIOWrapper.close()>"
      ]
     },
     "execution_count": 9,
     "metadata": {},
     "output_type": "execute_result"
    }
   ],
   "source": [
    "file.close"
   ]
  },
  {
   "cell_type": "code",
   "execution_count": 6,
   "metadata": {},
   "outputs": [
    {
     "name": "stdout",
     "output_type": "stream",
     "text": [
      "http://www.ebay.in/sch/i.html?_from=R40&_trksid=p2050601.m570.l1313.TR10.TRC0.A0.H0.Xlaptops.TRS0&_nkw=laptops&_sacat=0&_pgn=0\n",
      "http://www.ebay.in/sch/i.html?_from=R40&_trksid=p2050601.m570.l1313.TR10.TRC0.A0.H0.Xlaptops.TRS0&_nkw=laptops&_sacat=0&_pgn=1\n",
      "http://www.ebay.in/sch/i.html?_from=R40&_trksid=p2050601.m570.l1313.TR10.TRC0.A0.H0.Xlaptops.TRS0&_nkw=laptops&_sacat=0&_pgn=2\n",
      "http://www.ebay.in/sch/i.html?_from=R40&_trksid=p2050601.m570.l1313.TR10.TRC0.A0.H0.Xlaptops.TRS0&_nkw=laptops&_sacat=0&_pgn=3\n",
      "http://www.ebay.in/sch/i.html?_from=R40&_trksid=p2050601.m570.l1313.TR10.TRC0.A0.H0.Xlaptops.TRS0&_nkw=laptops&_sacat=0&_pgn=4\n"
     ]
    },
    {
     "data": {
      "text/plain": [
       "<function TextIOWrapper.close()>"
      ]
     },
     "execution_count": 6,
     "metadata": {},
     "output_type": "execute_result"
    }
   ],
   "source": [
    "for n in range(0,5):\n",
    "    url = ebay_link+str(n)\n",
    "    print(url)\n",
    "    ebay = requests.get(url)\n",
    "    ebay_soup = BeautifulSoup(ebay.content,\"html.parser\")\n",
    "    GetEbayItems(ebay_soup)\n",
    "    time.sleep(5)\n",
    "file.close"
   ]
  },
  {
   "cell_type": "code",
   "execution_count": null,
   "metadata": {},
   "outputs": [],
   "source": []
  }
 ],
 "metadata": {
  "kernelspec": {
   "display_name": "Python 3",
   "language": "python",
   "name": "python3"
  },
  "language_info": {
   "codemirror_mode": {
    "name": "ipython",
    "version": 3
   },
   "file_extension": ".py",
   "mimetype": "text/x-python",
   "name": "python",
   "nbconvert_exporter": "python",
   "pygments_lexer": "ipython3",
   "version": "3.8.3"
  }
 },
 "nbformat": 4,
 "nbformat_minor": 4
}
