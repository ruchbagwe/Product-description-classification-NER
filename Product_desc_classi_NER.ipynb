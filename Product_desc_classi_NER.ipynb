{
 "cells": [
  {
   "cell_type": "code",
   "execution_count": 1,
   "metadata": {},
   "outputs": [],
   "source": [
    "import pandas as pd\n",
    "import numpy as np\n",
    "import spacy \n",
    "import random\n",
    "import time\n",
    "\n",
    "import csv\n",
    "import json\n",
    "\n",
    "import re"
   ]
  },
  {
   "cell_type": "code",
   "execution_count": 2,
   "metadata": {},
   "outputs": [
    {
     "data": {
      "text/html": [
       "<div>\n",
       "<style scoped>\n",
       "    .dataframe tbody tr th:only-of-type {\n",
       "        vertical-align: middle;\n",
       "    }\n",
       "\n",
       "    .dataframe tbody tr th {\n",
       "        vertical-align: top;\n",
       "    }\n",
       "\n",
       "    .dataframe thead th {\n",
       "        text-align: right;\n",
       "    }\n",
       "</style>\n",
       "<table border=\"1\" class=\"dataframe\">\n",
       "  <thead>\n",
       "    <tr style=\"text-align: right;\">\n",
       "      <th></th>\n",
       "      <th>ProductBrand</th>\n",
       "      <th>ProductVer</th>\n",
       "      <th>Processor</th>\n",
       "      <th>RAM</th>\n",
       "      <th>OS</th>\n",
       "      <th>Disk</th>\n",
       "      <th>Dim</th>\n",
       "      <th>Category</th>\n",
       "    </tr>\n",
       "  </thead>\n",
       "  <tbody>\n",
       "    <tr>\n",
       "      <th>0</th>\n",
       "      <td>Lenovo</td>\n",
       "      <td>Ideapad</td>\n",
       "      <td>Intel Core i3 Processor (7th Gen)</td>\n",
       "      <td>4 GB DDR4</td>\n",
       "      <td>64 bit Windows 10</td>\n",
       "      <td>1 TB HDD</td>\n",
       "      <td>39.62 cm (15.6 inch)</td>\n",
       "      <td>Laptop</td>\n",
       "    </tr>\n",
       "    <tr>\n",
       "      <th>1</th>\n",
       "      <td>HP</td>\n",
       "      <td>Envy</td>\n",
       "      <td>Intel Core i3 Processor (7th Gen)</td>\n",
       "      <td>8 GB DDR4</td>\n",
       "      <td>64 bit Windows 10</td>\n",
       "      <td>256 GB SSD</td>\n",
       "      <td>35.56 cm (14 inch)</td>\n",
       "      <td>Laptop</td>\n",
       "    </tr>\n",
       "    <tr>\n",
       "      <th>2</th>\n",
       "      <td>Dell</td>\n",
       "      <td>Vostro</td>\n",
       "      <td>Intel Core i3 Processor (8th Gen)</td>\n",
       "      <td>4 GB DDR4</td>\n",
       "      <td>Linux/Ubuntu</td>\n",
       "      <td>1 TB HDD</td>\n",
       "      <td>35.56 cm (14 inch)</td>\n",
       "      <td>Laptop</td>\n",
       "    </tr>\n",
       "    <tr>\n",
       "      <th>3</th>\n",
       "      <td>HP</td>\n",
       "      <td>EliteBook</td>\n",
       "      <td>Intel Core i3 Processor (7th Gen)</td>\n",
       "      <td>4 GB DDR4</td>\n",
       "      <td>64 bit Windows 10</td>\n",
       "      <td>1 TB HDD</td>\n",
       "      <td>39.62 cm (15.6 inch)</td>\n",
       "      <td>Laptop</td>\n",
       "    </tr>\n",
       "    <tr>\n",
       "      <th>4</th>\n",
       "      <td>Lenovo</td>\n",
       "      <td>Ideapad</td>\n",
       "      <td>Intel Core i3 Processor (7th Gen)</td>\n",
       "      <td>4 GB DDR4</td>\n",
       "      <td>64 bit Windows 10</td>\n",
       "      <td>1 TB HDD</td>\n",
       "      <td>39.62 cm (15.6 inch)</td>\n",
       "      <td>Laptop</td>\n",
       "    </tr>\n",
       "  </tbody>\n",
       "</table>\n",
       "</div>"
      ],
      "text/plain": [
       "  ProductBrand  ProductVer                          Processor         RAM  \\\n",
       "0       Lenovo     Ideapad  Intel Core i3 Processor (7th Gen)  4 GB DDR4    \n",
       "1           HP        Envy  Intel Core i3 Processor (7th Gen)  8 GB DDR4    \n",
       "2         Dell      Vostro  Intel Core i3 Processor (8th Gen)  4 GB DDR4    \n",
       "3           HP   EliteBook  Intel Core i3 Processor (7th Gen)  4 GB DDR4    \n",
       "4       Lenovo     Ideapad  Intel Core i3 Processor (7th Gen)  4 GB DDR4    \n",
       "\n",
       "                  OS        Disk                    Dim Category  \n",
       "0  64 bit Windows 10    1 TB HDD  39.62 cm (15.6 inch)    Laptop  \n",
       "1  64 bit Windows 10  256 GB SSD    35.56 cm (14 inch)    Laptop  \n",
       "2       Linux/Ubuntu    1 TB HDD    35.56 cm (14 inch)    Laptop  \n",
       "3  64 bit Windows 10    1 TB HDD  39.62 cm (15.6 inch)    Laptop  \n",
       "4  64 bit Windows 10    1 TB HDD  39.62 cm (15.6 inch)    Laptop  "
      ]
     },
     "execution_count": 2,
     "metadata": {},
     "output_type": "execute_result"
    }
   ],
   "source": [
    "df = pd.read_csv('data/ebay_clean.csv', index_col = None)\n",
    "df.columns\n",
    "df = df.drop(columns ='Unnamed: 0')\n",
    "df['Category'] = 'Laptop'\n",
    "df.head()"
   ]
  },
  {
   "cell_type": "markdown",
   "metadata": {},
   "source": [
    "### Tokenizing the data"
   ]
  },
  {
   "cell_type": "code",
   "execution_count": 3,
   "metadata": {},
   "outputs": [
    {
     "data": {
      "text/plain": [
       "[0, 1, 2, 3, 4, 5, 6, 7]"
      ]
     },
     "execution_count": 3,
     "metadata": {},
     "output_type": "execute_result"
    }
   ],
   "source": [
    "# Entities \n",
    "entity = df.columns\n",
    "num_entity = len(df.columns)\n",
    "entity_list = list(np.arange(num_entity))\n",
    "entity_list"
   ]
  },
  {
   "cell_type": "code",
   "execution_count": 4,
   "metadata": {},
   "outputs": [],
   "source": [
    "#creating phrases from entities\n",
    "LaptopName = []\n",
    "Annotations  = []\n",
    "\n",
    "for i in range(len(df)):\n",
    "    ind_list = random.sample(entity_list, num_entity)  #shuffle list\n",
    "    phrase =  []\n",
    "    ann = []\n",
    "    ann_ind = 0\n",
    "    for j in range(num_entity):\n",
    "        col = ind_list[j]\n",
    "        val = df.iloc[i, col]\n",
    "        phrase.append(val)\n",
    "        ann.append((ann_ind, len(val) + ann_ind, entity[col]))\n",
    "        ann_ind = ann_ind + len(val) + 1\n",
    "        \n",
    "    LaptopName.append(' '.join(phrase))\n",
    "    Annotations.append(ann)"
   ]
  },
  {
   "cell_type": "code",
   "execution_count": 5,
   "metadata": {},
   "outputs": [
    {
     "data": {
      "text/plain": [
       "'4 GB DDR4  Laptop 39.62 cm (15.6 inch)  64 bit Windows 10 Intel Core i3 Processor (7th Gen) 1 TB HDD Lenovo Ideapad'"
      ]
     },
     "execution_count": 5,
     "metadata": {},
     "output_type": "execute_result"
    }
   ],
   "source": [
    "LaptopName[0]"
   ]
  },
  {
   "cell_type": "code",
   "execution_count": 6,
   "metadata": {
    "scrolled": true
   },
   "outputs": [
    {
     "data": {
      "text/plain": [
       "[(0, 10, 'RAM'),\n",
       " (11, 17, 'Category'),\n",
       " (18, 39, 'Dim'),\n",
       " (40, 57, 'OS'),\n",
       " (58, 91, 'Processor'),\n",
       " (92, 100, 'Disk'),\n",
       " (101, 107, 'ProductBrand'),\n",
       " (108, 115, 'ProductVer')]"
      ]
     },
     "execution_count": 6,
     "metadata": {},
     "output_type": "execute_result"
    }
   ],
   "source": [
    "Annotations[0]"
   ]
  },
  {
   "cell_type": "code",
   "execution_count": 7,
   "metadata": {},
   "outputs": [
    {
     "name": "stdout",
     "output_type": "stream",
     "text": [
      "Processor : Intel Core i3 Processor (7th Gen)\n"
     ]
    }
   ],
   "source": [
    "#finding brand from tokens\n",
    "entity_check = Annotations[0][4][2]\n",
    "entity_id = Annotations[0][4][1]\n",
    "name = Annotations[0][4][0]\n",
    "\n",
    "print(entity_check, ':',LaptopName[0][name:entity_id] )"
   ]
  },
  {
   "cell_type": "code",
   "execution_count": 8,
   "metadata": {},
   "outputs": [],
   "source": [
    "#Preparing dataset of tokens\n",
    "data = []\n",
    "for i in range(len(df)):\n",
    "    data.append([LaptopName[i], Annotations[i]])\n",
    "    \n",
    "LaptopData = pd.DataFrame(data, columns = ['Description', 'Annotations'])"
   ]
  },
  {
   "cell_type": "code",
   "execution_count": 9,
   "metadata": {},
   "outputs": [
    {
     "data": {
      "text/html": [
       "<div>\n",
       "<style scoped>\n",
       "    .dataframe tbody tr th:only-of-type {\n",
       "        vertical-align: middle;\n",
       "    }\n",
       "\n",
       "    .dataframe tbody tr th {\n",
       "        vertical-align: top;\n",
       "    }\n",
       "\n",
       "    .dataframe thead th {\n",
       "        text-align: right;\n",
       "    }\n",
       "</style>\n",
       "<table border=\"1\" class=\"dataframe\">\n",
       "  <thead>\n",
       "    <tr style=\"text-align: right;\">\n",
       "      <th></th>\n",
       "      <th>Description</th>\n",
       "      <th>Annotations</th>\n",
       "    </tr>\n",
       "  </thead>\n",
       "  <tbody>\n",
       "    <tr>\n",
       "      <th>0</th>\n",
       "      <td>4 GB DDR4  Laptop 39.62 cm (15.6 inch)  64 bit...</td>\n",
       "      <td>[(0, 10, RAM), (11, 17, Category), (18, 39, Di...</td>\n",
       "    </tr>\n",
       "    <tr>\n",
       "      <th>1</th>\n",
       "      <td>35.56 cm (14 inch)  Laptop 8 GB DDR4   Envy HP...</td>\n",
       "      <td>[(0, 19, Dim), (20, 26, Category), (27, 37, RA...</td>\n",
       "    </tr>\n",
       "    <tr>\n",
       "      <th>2</th>\n",
       "      <td>Vostro 1 TB HDD 35.56 cm (14 inch)  Laptop Del...</td>\n",
       "      <td>[(0, 6, ProductVer), (7, 15, Disk), (16, 35, D...</td>\n",
       "    </tr>\n",
       "    <tr>\n",
       "      <th>3</th>\n",
       "      <td>EliteBook Intel Core i3 Processor (7th Gen) 3...</td>\n",
       "      <td>[(0, 10, ProductVer), (11, 44, Processor), (45...</td>\n",
       "    </tr>\n",
       "    <tr>\n",
       "      <th>4</th>\n",
       "      <td>4 GB DDR4  Lenovo Laptop 39.62 cm (15.6 inch) ...</td>\n",
       "      <td>[(0, 10, RAM), (11, 17, ProductBrand), (18, 24...</td>\n",
       "    </tr>\n",
       "  </tbody>\n",
       "</table>\n",
       "</div>"
      ],
      "text/plain": [
       "                                         Description  \\\n",
       "0  4 GB DDR4  Laptop 39.62 cm (15.6 inch)  64 bit...   \n",
       "1  35.56 cm (14 inch)  Laptop 8 GB DDR4   Envy HP...   \n",
       "2  Vostro 1 TB HDD 35.56 cm (14 inch)  Laptop Del...   \n",
       "3   EliteBook Intel Core i3 Processor (7th Gen) 3...   \n",
       "4  4 GB DDR4  Lenovo Laptop 39.62 cm (15.6 inch) ...   \n",
       "\n",
       "                                         Annotations  \n",
       "0  [(0, 10, RAM), (11, 17, Category), (18, 39, Di...  \n",
       "1  [(0, 19, Dim), (20, 26, Category), (27, 37, RA...  \n",
       "2  [(0, 6, ProductVer), (7, 15, Disk), (16, 35, D...  \n",
       "3  [(0, 10, ProductVer), (11, 44, Processor), (45...  \n",
       "4  [(0, 10, RAM), (11, 17, ProductBrand), (18, 24...  "
      ]
     },
     "execution_count": 9,
     "metadata": {},
     "output_type": "execute_result"
    }
   ],
   "source": [
    "LaptopData.head()"
   ]
  },
  {
   "cell_type": "code",
   "execution_count": 10,
   "metadata": {},
   "outputs": [],
   "source": [
    "LaptopData.to_csv('data/Desc_anno.csv', index= None)"
   ]
  },
  {
   "cell_type": "markdown",
   "metadata": {},
   "source": [
    "### Creating json file"
   ]
  },
  {
   "cell_type": "code",
   "execution_count": 11,
   "metadata": {},
   "outputs": [],
   "source": [
    "file = open('data/Desc_anno.csv', 'r')\n",
    "json_file = open('data/Laptop_Description.json', 'w')\n",
    "\n",
    "columns = ('Description', 'Annotations')\n",
    "reader = csv.DictReader(file, columns)\n",
    "\n",
    "for row in reader:\n",
    "    json.dump(row, json_file)\n",
    "    json_file.write('\\n')"
   ]
  },
  {
   "cell_type": "markdown",
   "metadata": {},
   "source": [
    "### Preparing Training Data"
   ]
  },
  {
   "cell_type": "code",
   "execution_count": 12,
   "metadata": {},
   "outputs": [],
   "source": [
    "def create_train(file):\n",
    "    try:\n",
    "        training_data = []\n",
    "        data = []\n",
    "        with open(file, 'r') as f:\n",
    "            data = f.readlines()\n",
    "        print(\"Length of complete dataset : \",len(data))\n",
    "        m = int(len(data)) # length of complete data\n",
    "        training_len = round(m * 0.8) # length of training data\n",
    "        print(\"Length of training dataset : \",training_len)\n",
    "        \n",
    "        invalid_span_tokens = re.compile(r'\\s')\n",
    "        \n",
    "        for line in data[1:training_len]:\n",
    "            row = json.loads(line)\n",
    "            desc  = row['Description']  #Laptop description\n",
    "            entity = row['Annotations']  # Annontation of description\n",
    "            valid_entities = []\n",
    "            for i in eval(entity):\n",
    "                valid_start, valid_end, label = i[0],i[1],i[2]\n",
    "                while valid_start < len(desc) and invalid_span_tokens.match(desc[valid_start]):\n",
    "                    valid_start += 1\n",
    "                while valid_end > 1 and invalid_span_tokens.match(desc[valid_end - 1]):\n",
    "                    valid_end -= 1\n",
    "                valid_entities.append([valid_start, valid_end, label])\n",
    "            training_data.append((desc, {\"entities\" : valid_entities}))\n",
    "        \n",
    "        return training_data\n",
    "        \n",
    "                \n",
    "    except Exception as e:\n",
    "        logging.exception(\"Unable to process \" + file + '\\n' + \"error = \" + str(e))\n",
    "        return None\n",
    "    \n",
    "                "
   ]
  },
  {
   "cell_type": "code",
   "execution_count": 13,
   "metadata": {},
   "outputs": [
    {
     "ename": "NameError",
     "evalue": "name 'input_file' is not defined",
     "output_type": "error",
     "traceback": [
      "\u001b[1;31m---------------------------------------------------------------------------\u001b[0m",
      "\u001b[1;31mNameError\u001b[0m                                 Traceback (most recent call last)",
      "\u001b[1;32m<ipython-input-13-a2b3b33d7fd5>\u001b[0m in \u001b[0;36m<module>\u001b[1;34m\u001b[0m\n\u001b[0;32m      1\u001b[0m \u001b[0mtraining_data\u001b[0m \u001b[1;33m=\u001b[0m \u001b[1;33m[\u001b[0m\u001b[1;33m]\u001b[0m\u001b[1;33m\u001b[0m\u001b[1;33m\u001b[0m\u001b[0m\n\u001b[0;32m      2\u001b[0m \u001b[0mdata\u001b[0m \u001b[1;33m=\u001b[0m \u001b[1;33m[\u001b[0m\u001b[1;33m]\u001b[0m\u001b[1;33m\u001b[0m\u001b[1;33m\u001b[0m\u001b[0m\n\u001b[1;32m----> 3\u001b[1;33m \u001b[1;32mwith\u001b[0m \u001b[0mopen\u001b[0m\u001b[1;33m(\u001b[0m\u001b[0minput_file\u001b[0m\u001b[1;33m,\u001b[0m \u001b[1;34m'r'\u001b[0m\u001b[1;33m)\u001b[0m \u001b[1;32mas\u001b[0m \u001b[0mf\u001b[0m\u001b[1;33m:\u001b[0m\u001b[1;33m\u001b[0m\u001b[1;33m\u001b[0m\u001b[0m\n\u001b[0m\u001b[0;32m      4\u001b[0m     \u001b[0mdata\u001b[0m \u001b[1;33m=\u001b[0m \u001b[0mf\u001b[0m\u001b[1;33m.\u001b[0m\u001b[0mreadlines\u001b[0m\u001b[1;33m(\u001b[0m\u001b[1;33m)\u001b[0m\u001b[1;33m\u001b[0m\u001b[1;33m\u001b[0m\u001b[0m\n\u001b[0;32m      5\u001b[0m \u001b[0mm\u001b[0m \u001b[1;33m=\u001b[0m \u001b[0mint\u001b[0m\u001b[1;33m(\u001b[0m\u001b[0mlen\u001b[0m\u001b[1;33m(\u001b[0m\u001b[0mdata\u001b[0m\u001b[1;33m)\u001b[0m\u001b[1;33m)\u001b[0m\u001b[1;33m\u001b[0m\u001b[1;33m\u001b[0m\u001b[0m\n",
      "\u001b[1;31mNameError\u001b[0m: name 'input_file' is not defined"
     ]
    }
   ],
   "source": [
    "training_data = []\n",
    "data = []\n",
    "with open(input_file, 'r') as f:\n",
    "    data = f.readlines()\n",
    "m = int(len(data))\n",
    "training_len = round(m * 0.8)\n",
    "\n",
    "'''for line in data[1:training_len]:\n",
    "    row = json.loads(line)\n",
    "    desc  = row['Description']\n",
    "    entity = row['Annotations']\n",
    "    print(entity)\n",
    "    valid_entities = []\n",
    "    for ent in entity.split(','):\n",
    "        print(ent)'''\n",
    "invalid_span_tokens = re.compile(r'\\s')\n",
    "row = json.loads(data[1])\n",
    "#print(row)\n",
    "desc  = row['Description']\n",
    "entity = row['Annotations']\n",
    "#print(entity)\n",
    "valid_entities = []\n",
    "for i in eval(entity):\n",
    "    valid_start , valid_end , label = i[0],i[1],i[2]\n",
    "    while valid_start < len(desc) and invalid_span_tokens.match(desc[valid_start]):\n",
    "        valid_start += 1\n",
    "    while valid_end > 1 and invalid_span_tokens.match(desc[valid_end - 1]):\n",
    "        valid_end -= 1\n",
    "    valid_entities.append([valid_start, valid_end, label])\n",
    "    print(valid_entities)\n"
   ]
  },
  {
   "cell_type": "code",
   "execution_count": 14,
   "metadata": {},
   "outputs": [
    {
     "name": "stdout",
     "output_type": "stream",
     "text": [
      "Length of complete dataset :  416\n",
      "Length of training dataset :  333\n"
     ]
    },
    {
     "data": {
      "text/plain": [
       "('4 GB DDR4  Laptop 39.62 cm (15.6 inch)  64 bit Windows 10 Intel Core i3 Processor (7th Gen) 1 TB HDD Lenovo Ideapad',\n",
       " {'entities': [[0, 9, 'RAM'],\n",
       "   [11, 17, 'Category'],\n",
       "   [18, 38, 'Dim'],\n",
       "   [40, 57, 'OS'],\n",
       "   [58, 91, 'Processor'],\n",
       "   [92, 100, 'Disk'],\n",
       "   [101, 107, 'ProductBrand'],\n",
       "   [108, 115, 'ProductVer']]})"
      ]
     },
     "execution_count": 14,
     "metadata": {},
     "output_type": "execute_result"
    }
   ],
   "source": [
    "input_file = 'data/Laptop_Description.json'\n",
    "training_data = create_train(input_file)\n",
    "training_data[0]"
   ]
  },
  {
   "cell_type": "markdown",
   "metadata": {},
   "source": [
    "### Training NER model"
   ]
  },
  {
   "cell_type": "code",
   "execution_count": 16,
   "metadata": {},
   "outputs": [],
   "source": [
    "def training(train_data, iterations):\n",
    "    \n",
    "    nlp = spacy.blank('en') #blank language class\n",
    "    \n",
    "    if 'ner' not in nlp.pipe_names:\n",
    "        ner = nlp.create_pipe('ner')\n",
    "        nlp.add_pipe(ner, last=True)\n",
    "\n",
    "    \n",
    "    # add labels\n",
    "    for _, annotations in train_data:\n",
    "        for ent in annotations.get('entities'):\n",
    "            ner.add_label(ent[2])\n",
    "\n",
    "    \n",
    "    # disable other pips name\n",
    "    other_pipes = [pipe for pipe in nlp.pipe_names if pipe != 'ner']\n",
    "    \n",
    "    with nlp.disable_pipes(*other_pipes):\n",
    "        optimizer = nlp.begin_training()\n",
    "        for i in range(iterations):\n",
    "            print(\"Starting iteration \" + str(i))\n",
    "            random.shuffle(train_data)\n",
    "            losses = {}\n",
    "            for desc, annotations in training_data:\n",
    "                nlp.update(\n",
    "                    [desc],\n",
    "                    [annotations],\n",
    "                    drop = 0.2,\n",
    "                    sgd = optimizer,\n",
    "                    losses = losses\n",
    "                )\n",
    "            #if (losses['ner'] < 50):\n",
    "            #    break\n",
    "            print(losses)\n",
    "    return nlp\n",
    "    "
   ]
  },
  {
   "cell_type": "code",
   "execution_count": 17,
   "metadata": {},
   "outputs": [
    {
     "name": "stderr",
     "output_type": "stream",
     "text": [
      "c:\\python38\\lib\\site-packages\\spacy\\language.py:635: UserWarning: [W033] Training a new parser or NER using a model with no lexeme normalization table. This may degrade the performance of the model to some degree. If this is intentional or the language you're using doesn't have a normalization table, please ignore this warning. If this is surprising, make sure you have the spacy-lookups-data package installed. The languages with lexeme normalization tables are currently: da, de, el, en, id, lb, pt, ru, sr, ta, th.\n",
      "  proc.begin_training(\n"
     ]
    },
    {
     "name": "stdout",
     "output_type": "stream",
     "text": [
      "Starting iteration 0\n",
      "{'ner': 1933.5915573758327}\n",
      "Starting iteration 1\n",
      "{'ner': 190.12729213023496}\n",
      "Starting iteration 2\n",
      "{'ner': 71.32842122774716}\n",
      "Starting iteration 3\n",
      "{'ner': 100.84694997425362}\n",
      "Starting iteration 4\n",
      "{'ner': 63.450267644574296}\n",
      "Starting iteration 5\n",
      "{'ner': 74.00841993304392}\n",
      "Starting iteration 6\n",
      "{'ner': 54.06889538502306}\n",
      "Starting iteration 7\n",
      "{'ner': 77.30535836653793}\n",
      "Starting iteration 8\n",
      "{'ner': 75.6625128423183}\n",
      "Starting iteration 9\n",
      "{'ner': 85.10703722400429}\n",
      "Wall time: 11min 3s\n"
     ]
    }
   ],
   "source": [
    "%%time\n",
    "nlp_1 = training(training_data, 10)"
   ]
  },
  {
   "cell_type": "code",
   "execution_count": 18,
   "metadata": {},
   "outputs": [
    {
     "name": "stdout",
     "output_type": "stream",
     "text": [
      "Starting iteration 0\n",
      "{'ner': 1851.2582731855505}\n",
      "Starting iteration 1\n",
      "{'ner': 124.47345139901309}\n",
      "Starting iteration 2\n",
      "{'ner': 69.23241189434714}\n",
      "Starting iteration 3\n",
      "{'ner': 116.61889072746945}\n",
      "Starting iteration 4\n",
      "{'ner': 51.460620769704136}\n",
      "Starting iteration 5\n",
      "{'ner': 70.04433799400528}\n",
      "Starting iteration 6\n",
      "{'ner': 64.04877992113097}\n",
      "Starting iteration 7\n",
      "{'ner': 71.2596126969744}\n",
      "Starting iteration 8\n",
      "{'ner': 78.6439628091487}\n",
      "Starting iteration 9\n",
      "{'ner': 56.25349386714585}\n",
      "Starting iteration 10\n",
      "{'ner': 86.57250023254396}\n",
      "Starting iteration 11\n",
      "{'ner': 44.38575762916058}\n",
      "Starting iteration 12\n",
      "{'ner': 62.15800921292055}\n",
      "Starting iteration 13\n",
      "{'ner': 36.557689213875115}\n",
      "Starting iteration 14\n",
      "{'ner': 89.09271829112207}\n",
      "Starting iteration 15\n",
      "{'ner': 46.97607737096716}\n",
      "Starting iteration 16\n",
      "{'ner': 46.64348932113302}\n",
      "Starting iteration 17\n",
      "{'ner': 31.64071704456642}\n",
      "Starting iteration 18\n",
      "{'ner': 35.46992082918963}\n",
      "Starting iteration 19\n",
      "{'ner': 60.72419901744476}\n",
      "Starting iteration 20\n",
      "{'ner': 41.60953737065863}\n",
      "Starting iteration 21\n",
      "{'ner': 36.74703512370063}\n",
      "Starting iteration 22\n",
      "{'ner': 11.26070494575307}\n",
      "Starting iteration 23\n",
      "{'ner': 69.10075091147567}\n",
      "Starting iteration 24\n",
      "{'ner': 147.8376503509169}\n",
      "Starting iteration 25\n",
      "{'ner': 55.349164407556394}\n",
      "Starting iteration 26\n",
      "{'ner': 51.060708420532606}\n",
      "Starting iteration 27\n",
      "{'ner': 65.43062930265059}\n",
      "Starting iteration 28\n",
      "{'ner': 39.3567268190756}\n",
      "Starting iteration 29\n",
      "{'ner': 42.85663844867277}\n"
     ]
    }
   ],
   "source": [
    "nlp_2 = training(training_data, 30)"
   ]
  },
  {
   "cell_type": "markdown",
   "metadata": {},
   "source": [
    "### Testing the model"
   ]
  },
  {
   "cell_type": "code",
   "execution_count": 19,
   "metadata": {},
   "outputs": [
    {
     "name": "stdout",
     "output_type": "stream",
     "text": [
      "Enter your testing text: 256 GB SSD and Intel Core i7 Processor (8th Gen) HP\n"
     ]
    }
   ],
   "source": [
    "test_val = str(input(\"Enter your testing text: \"))"
   ]
  },
  {
   "cell_type": "code",
   "execution_count": 21,
   "metadata": {},
   "outputs": [
    {
     "name": "stdout",
     "output_type": "stream",
     "text": [
      "Entity : 256 GB SSD\n",
      "Details:  0 10 Disk\n",
      "Entity : and\n",
      "Details:  11 14 OS\n",
      "Entity : Intel Core i7 Processor (8th Gen)\n",
      "Details:  15 48 Processor\n",
      "Entity : HP\n",
      "Details:  49 51 ProductBrand\n"
     ]
    }
   ],
   "source": [
    "predict_data = nlp_1(test_val)\n",
    "\n",
    "for i in predict_data.ents:\n",
    "    print('Entity :', i.text)\n",
    "    print('Details: ',i.start_char, i.end_char, i.label_)"
   ]
  },
  {
   "cell_type": "code",
   "execution_count": 22,
   "metadata": {},
   "outputs": [
    {
     "name": "stdout",
     "output_type": "stream",
     "text": [
      "Entity : 256 GB SSD\n",
      "Details:  0 10 Disk\n",
      "Entity : and\n",
      "Details:  11 14 ProductBrand\n",
      "Entity : Intel Core i7 Processor (8th Gen)\n",
      "Details:  15 48 Processor\n",
      "Entity : HP\n",
      "Details:  49 51 ProductBrand\n"
     ]
    }
   ],
   "source": [
    "predict_data2 = nlp_2(test_val)\n",
    "\n",
    "for i in predict_data2.ents:\n",
    "    print('Entity :', i.text)\n",
    "    print('Details: ',i.start_char, i.end_char, i.label_)"
   ]
  },
  {
   "cell_type": "code",
   "execution_count": null,
   "metadata": {},
   "outputs": [],
   "source": []
  }
 ],
 "metadata": {
  "kernelspec": {
   "display_name": "Python 3",
   "language": "python",
   "name": "python3"
  },
  "language_info": {
   "codemirror_mode": {
    "name": "ipython",
    "version": 3
   },
   "file_extension": ".py",
   "mimetype": "text/x-python",
   "name": "python",
   "nbconvert_exporter": "python",
   "pygments_lexer": "ipython3",
   "version": "3.8.3"
  }
 },
 "nbformat": 4,
 "nbformat_minor": 4
}
